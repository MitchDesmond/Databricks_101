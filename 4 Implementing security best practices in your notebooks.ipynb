{
 "cells": [
  {
   "cell_type": "markdown",
   "metadata": {
    "application/vnd.databricks.v1+cell": {
     "cellMetadata": {},
     "inputWidgets": {},
     "nuid": "4b4c5082-a1be-435e-a47f-9e29d0ea3d16",
     "showTitle": false,
     "title": ""
    }
   },
   "source": [
    "-sandbox\n",
    "\n",
    "<div style=\"text-align: center; line-height: 0; padding-top: 9px;\">\n",
    "  <img src=\"https://databricks.com/wp-content/uploads/2018/03/db-academy-rgb-1200px.png\" alt=\"Databricks Learning\" style=\"width: 600px\">\n",
    "</div>"
   ]
  },
  {
   "cell_type": "markdown",
   "metadata": {
    "application/vnd.databricks.v1+cell": {
     "cellMetadata": {},
     "inputWidgets": {},
     "nuid": "67c21ce1-29f5-4764-b0fd-02a81301c020",
     "showTitle": false,
     "title": ""
    }
   },
   "source": [
    "# Implementing security best practices in your notebooks\n",
    "\n",
    "In this lab you will learn how to:\n",
    "* Apply parametrization to improve the security and maintainability of your notebooks\n",
    "* Set up and use Databricks secrets to secure sensitive information"
   ]
  },
  {
   "cell_type": "markdown",
   "metadata": {
    "application/vnd.databricks.v1+cell": {
     "cellMetadata": {},
     "inputWidgets": {},
     "nuid": "e072d496-5746-4863-814f-93f3eb400ebf",
     "showTitle": false,
     "title": ""
    }
   },
   "source": [
    "##Prerequisites\n",
    "\n",
    "If you would like to follow along with this lab, you will need access to an organization in GitHub, with the ability to create an API token."
   ]
  },
  {
   "cell_type": "markdown",
   "metadata": {
    "application/vnd.databricks.v1+cell": {
     "cellMetadata": {},
     "inputWidgets": {},
     "nuid": "01fa4e2b-a5ba-4403-af6e-da09a417e2d0",
     "showTitle": false,
     "title": ""
    }
   },
   "source": [
    "## Overview\n",
    "\n",
    "We often need to write notebooks that interact with services that require credentials. We don't want sensitive information like passwords or tokens to fall into the wrong hands. As easy as it is to embed such credentials into the code of your notebook, doing so is a very bad idea from a security standpoint, because you can easily leak credentials if you share the notebook with someone else, or place it under revision control where it's visible to anyone with access to the repository.\n",
    "\n",
    "Parametrizing credentials is a better idea, but we need an approach that is secure, and that works equally well when running the notebook interactively versus as a scheduled job. This is where Databricks secrets fits in. Databricks secrets abstracts the complexity of hiding sensitive information, and makes it accessible through the CLI, APIs, or through Databricks utilities.\n",
    "\n",
    "In this lab, we'll encounter a fairly typical authentication challenge and work through these two approaches to overcome it."
   ]
  },
  {
   "cell_type": "markdown",
   "metadata": {
    "application/vnd.databricks.v1+cell": {
     "cellMetadata": {},
     "inputWidgets": {},
     "nuid": "37126632-9417-48a4-b289-d8afc3436d41",
     "showTitle": false,
     "title": ""
    }
   },
   "source": [
    "## Implementing a simple GitHub application\n",
    "\n",
    "Let's examine the beginnings of an application that uses the GitHub REST API to query some repository metrics. Before proceeding, edit the following cell:\n",
    "* Replace *ORG* with your GitHub organization name\n",
    "* Replace *TOKEN* with a personal access token. Obtain one by following these high-level steps:\n",
    "    1. In the <a href=\"https://www.github.com\" target=\"_blank\">GitHub dashboard</a>, click on the avatar dropdown at the top-right corner of the page.\n",
    "    1. Select **Settings**.\n",
    "    1. Select **Developer settings** at the bottom of the menu.\n",
    "    1. Select **Personal access tokens**.\n",
    "    1. Click **Generate new token**.\n",
    "    1. Specify a **Note** and **Expiration**, and select **repo** for the scope.\n",
    "    1. Click **Generate token**.\n",
    "    1. Copy the generated token. Depending on how your organization is set up, you may additionally have to authorize the token by clicking **Configure SSO** and following the prompts.\n",
    "    \n",
    "Once you've made these two substitutions, run the cell."
   ]
  },
  {
   "cell_type": "code",
   "execution_count": 0,
   "metadata": {
    "application/vnd.databricks.v1+cell": {
     "cellMetadata": {},
     "inputWidgets": {},
     "nuid": "23bfd880-db14-4e5e-af9c-175de93fdc07",
     "showTitle": false,
     "title": ""
    }
   },
   "outputs": [],
   "source": [
    "DBACADEMY_GITHUB_ORG = \"ORG\"\n",
    "DBACADEMY_GITHUB_TOKEN = \"TOKEN\""
   ]
  },
  {
   "cell_type": "markdown",
   "metadata": {
    "application/vnd.databricks.v1+cell": {
     "cellMetadata": {},
     "inputWidgets": {},
     "nuid": "460f7683-f751-4476-bbb2-f0efacf375e6",
     "showTitle": false,
     "title": ""
    }
   },
   "source": [
    "Using a combination of Python *requests* and PySpark, let's query repositories using the organization name and token for authorization, and store some results in a DataFrame."
   ]
  },
  {
   "cell_type": "code",
   "execution_count": 0,
   "metadata": {
    "application/vnd.databricks.v1+cell": {
     "cellMetadata": {},
     "inputWidgets": {},
     "nuid": "2aaa4690-17fb-47c0-b07f-4e69fe5aa192",
     "showTitle": false,
     "title": ""
    }
   },
   "outputs": [],
   "source": [
    "import requests\n",
    "\n",
    "# Request a list of repository organizations as per https://docs.github.com/en/rest/repos/repos#list-organization-repositories\n",
    "r = requests.get(f\"https://api.github.com/orgs/{DBACADEMY_GITHUB_ORG}/repos\",\n",
    "                 params = { \"per_page\": 100 },\n",
    "                 headers = { \"Authorization\": f\"Bearer {DBACADEMY_GITHUB_TOKEN}\" }\n",
    "                )\n",
    "\n",
    "# Read the JSON output into a DataFrame with select columns. No error checking in this simple example. If the above request failed,\n",
    "# the following statement will fail.\n",
    "df = spark.read.json(sc.parallelize([ r.text ])).select(\"name\",\"git_url\",\"created_at\",\"open_issues_count\",\"visibility\",\"watchers_count\")\n",
    "display(df)"
   ]
  },
  {
   "cell_type": "markdown",
   "metadata": {
    "application/vnd.databricks.v1+cell": {
     "cellMetadata": {},
     "inputWidgets": {},
     "nuid": "3ac736e2-df09-469e-bee2-e422aead48e6",
     "showTitle": false,
     "title": ""
    }
   },
   "source": [
    "As we can see, this works, however it should be apparent that the above pattern is terrible practice, for two reasons:\n",
    "* Two sensitive pieces of information (your token, and less cricitally, your organization's name) are exposed in clear text within the notebook. Anyone with whom this notebook is shared, either deliberately or inadvertently, will be able to access the service using your credentials.\n",
    "* It also introduces maintenance challenges if you have multiple notebooks using the same credentials. When credentials are updated (in this case, when the token is rolled over), each notebook would have to be manually updated."
   ]
  },
  {
   "cell_type": "markdown",
   "metadata": {
    "application/vnd.databricks.v1+cell": {
     "cellMetadata": {},
     "inputWidgets": {},
     "nuid": "9d72401a-0424-4579-992f-10ed7a6adfb6",
     "showTitle": false,
     "title": ""
    }
   },
   "source": [
    "## Solving the problem with parametrization\n",
    "\n",
    "Parametrizing the sensitive elements is a more secure and scalable option. To demonstrate this, let's run the following cell."
   ]
  },
  {
   "cell_type": "code",
   "execution_count": 0,
   "metadata": {
    "application/vnd.databricks.v1+cell": {
     "cellMetadata": {},
     "inputWidgets": {},
     "nuid": "a40e0893-4acc-476d-bd80-cd158b0debb7",
     "showTitle": false,
     "title": ""
    }
   },
   "outputs": [],
   "source": [
    "dbutils.widgets.text(name='github_org', defaultValue='')\n",
    "dbutils.widgets.text(name='github_token', defaultValue='')"
   ]
  },
  {
   "cell_type": "markdown",
   "metadata": {
    "application/vnd.databricks.v1+cell": {
     "cellMetadata": {},
     "inputWidgets": {},
     "nuid": "fc4a7438-ab90-4bff-b4e7-b3d192ebb39c",
     "showTitle": false,
     "title": ""
    }
   },
   "source": [
    "Now, referring back to the cell you modified earlier, copy the following values into the fields above:\n",
    "* Copy the value for *DBACADEMY_GITHUB_ORG* into the *github_org* field\n",
    "* Copy the value for *DBACADEMY_GITHUB_TOKEN* into the *github_token* field\n",
    "\n",
    "The cell below is a rephrasing of the code we saw earlier, adjusted to use the field values rather than the hardcoded variables. Modifying the values in the fields will automatically trigger the execution of the cell, which will succeed if the organization and token are both valid."
   ]
  },
  {
   "cell_type": "code",
   "execution_count": 0,
   "metadata": {
    "application/vnd.databricks.v1+cell": {
     "cellMetadata": {},
     "inputWidgets": {},
     "nuid": "b67cf241-02dd-4b3f-9260-cf5a8c78e841",
     "showTitle": false,
     "title": ""
    }
   },
   "outputs": [],
   "source": [
    "import requests\n",
    "\n",
    "# Request a list of repository organizations as per https://docs.github.com/en/rest/repos/repos#list-organization-repositories\n",
    "r = requests.get(f\"https://api.github.com/orgs/{dbutils.widgets.get('github_org')}/repos\",\n",
    "                 params = { \"per_page\": 100 },\n",
    "                 headers = { \"Authorization\": f\"Bearer {dbutils.widgets.get('github_token')}\" }\n",
    "                )\n",
    "\n",
    "# Read the JSON output into a DataFrame with select columns. No error checking in this simple example. If the above request failed,\n",
    "# the following statement will fail.\n",
    "df = spark.read.json(sc.parallelize([ r.text ])).select(\"name\",\"git_url\",\"created_at\",\"open_issues_count\",\"visibility\",\"watchers_count\")\n",
    "display(df)"
   ]
  },
  {
   "cell_type": "markdown",
   "metadata": {
    "application/vnd.databricks.v1+cell": {
     "cellMetadata": {},
     "inputWidgets": {},
     "nuid": "34e16dab-b6c4-4ef5-b1fe-3234f24ab1d7",
     "showTitle": false,
     "title": ""
    }
   },
   "source": [
    "The values are now parametrized. They are no longer hardcoded which in itself is a massive improvement from a security standpoint. This change also improves usability, because now the values can be dynamically specified in one of three ways:\n",
    "* When running the notebook interactively as we are doing here, values can be specified by filling in the fields\n",
    "* When running the notebook from another notebook, values can be specified as part of the invocation\n",
    "* When running the notebook from a job, values can be specified in the **Parameters** section of the job configuration\n",
    "\n",
    "While this is definitely more secure, let's look at one final option that presents the most secure option: Databricks secrets."
   ]
  },
  {
   "cell_type": "markdown",
   "metadata": {
    "application/vnd.databricks.v1+cell": {
     "cellMetadata": {},
     "inputWidgets": {},
     "nuid": "1e141615-282c-41f9-8043-d98fb02a08bf",
     "showTitle": false,
     "title": ""
    }
   },
   "source": [
    "## Solving the problem with Databricks secrets\n",
    "\n",
    "Databricks secrets provides a mechanism to securely store sensitive information in a way that it can be made available across the workspace. Notebooks can then pull in the information they need directly using the **`secrets`** command provided by **dbutils**.\n",
    "\n",
    "Secrets provides some important security benefits over simple parametrization:\n",
    "* Secrets are scoped, allowing you to categorize sensitive information into distinct namespaces\n",
    "* Secrets can be access controlled, allowing you to restrict which users have access to which secrets\n",
    "\n",
    "As we'll see, there's slightly more setup effort involved, however we'll also see that using secrets in your notebooks is no more difficult than parameters."
   ]
  },
  {
   "cell_type": "markdown",
   "metadata": {
    "application/vnd.databricks.v1+cell": {
     "cellMetadata": {},
     "inputWidgets": {},
     "nuid": "9dde3431-4708-4347-830a-7a1dd75baba9",
     "showTitle": false,
     "title": ""
    }
   },
   "source": [
    "### Setup\n",
    "\n",
    "At a mininum, setting up secrets involves defining a scope, then adding secrets to the scope. Both of these tasks can only be done using the Databricks CLI or the secrets API. For this lab, we'll use the API. Full information on the API can be found <a href=\"https://docs.databricks.com/dev-tools/api/latest/secrets.html\" target=\"_blank\">here</a>."
   ]
  },
  {
   "cell_type": "markdown",
   "metadata": {
    "application/vnd.databricks.v1+cell": {
     "cellMetadata": {},
     "inputWidgets": {},
     "nuid": "96588d3f-93b4-4d41-8959-0739eeeea97b",
     "showTitle": false,
     "title": ""
    }
   },
   "source": [
    "####Setting up API credentials\n",
    "\n",
    "If you followed the lab *Using Databricks APIs*, you'll recall that we need a base URL for the APIs and a token for API authentication before we can proceed. Run the following cell to create a landing zone for the needed inputs, then follow the instructions below."
   ]
  },
  {
   "cell_type": "code",
   "execution_count": 0,
   "metadata": {
    "application/vnd.databricks.v1+cell": {
     "cellMetadata": {},
     "inputWidgets": {},
     "nuid": "228d66ba-1989-44a0-a429-afa3d4491ddc",
     "showTitle": false,
     "title": ""
    }
   },
   "outputs": [],
   "source": [
    "dbutils.widgets.text(name='url', defaultValue='')\n",
    "dbutils.widgets.text(name='token', defaultValue='')\n",
    "\n",
    "from urllib.parse import urlparse,urlunsplit\n",
    "\n",
    "u = urlparse(dbutils.widgets.get('url'))\n",
    "\n",
    "import os\n",
    "\n",
    "os.environ[\"DBACADEMY_API_TOKEN\"] = f\"Authorization: Bearer {dbutils.widgets.get('token')}\"\n",
    "os.environ[\"DBACADEMY_API_URL\"] = urlunsplit((u.scheme, u.netloc, f\"/api/2.0\", \"\", \"\"))\n",
    "\n",
    "os.environ[\"DBACADEMY_GITHUB_ORG\"] = dbutils.widgets.get('github_org')\n",
    "os.environ[\"DBACADEMY_GITHUB_TOKEN\"] = dbutils.widgets.get('github_token')"
   ]
  },
  {
   "cell_type": "markdown",
   "metadata": {
    "application/vnd.databricks.v1+cell": {
     "cellMetadata": {},
     "inputWidgets": {},
     "nuid": "143072ad-87c7-4a94-808e-26829414da2f",
     "showTitle": false,
     "title": ""
    }
   },
   "source": [
    "Now let's populate the two fields as follows.\n",
    "1. Go to <a href=\"#setting/account\" target=\"_blank\">User Settings</a> (which is also accessible from the left sidebar by selecting **Settings > User Settings**).\n",
    "1. Select the **Access tokens** tab.\n",
    "1. Click **Generate new token**.\n",
    "    1. Specify a **Comment** such as *Security lab*. Choose a short value for **Lifetime**; for the purpose of this lab, one or two days is sufficient.\n",
    "    1. Click **Generate**.\n",
    "    1. Copy the resulting token to the *token* field.\n",
    "    1. Click **Done**.\n",
    "1. Copy the URL of your workspace (the contents of the address bar in your current browser session is sufficient) into the *url* field."
   ]
  },
  {
   "cell_type": "markdown",
   "metadata": {
    "application/vnd.databricks.v1+cell": {
     "cellMetadata": {},
     "inputWidgets": {},
     "nuid": "9a55a28d-0947-4aca-a5b2-179bda615554",
     "showTitle": false,
     "title": ""
    }
   },
   "source": [
    "### Creating a secret scope\n",
    "\n",
    "Now that we have API access, let's invoke the API for creating a new secret scope.\n",
    "\n",
    "If we were using the CLI, an equivalent command for this would be **`databricks secrets create-scope --scope mysecrets_cli`**."
   ]
  },
  {
   "cell_type": "code",
   "execution_count": 0,
   "metadata": {
    "application/vnd.databricks.v1+cell": {
     "cellMetadata": {},
     "inputWidgets": {},
     "nuid": "12604a08-7401-4f6d-a45f-6dec8d8b6281",
     "showTitle": false,
     "title": ""
    }
   },
   "outputs": [],
   "source": [
    "%sh cat << EOF | curl -s -X POST -H \"${DBACADEMY_API_TOKEN}\" \"${DBACADEMY_API_URL}/secrets/scopes/create\" -d @- | json_pp\n",
    "{\n",
    "  \"scope\": \"mysecrets_api\"\n",
    "}\n",
    "EOF"
   ]
  },
  {
   "cell_type": "markdown",
   "metadata": {
    "application/vnd.databricks.v1+cell": {
     "cellMetadata": {},
     "inputWidgets": {},
     "nuid": "f6cf880c-611b-4f73-8a2c-558db0421033",
     "showTitle": false,
     "title": ""
    }
   },
   "source": [
    "#### Listing scopes\n",
    "Let's validate the scope creation by invoking the API to list scopes. The equivalent CLI command for this would be **`databricks secrets list-scopes`**."
   ]
  },
  {
   "cell_type": "code",
   "execution_count": 0,
   "metadata": {
    "application/vnd.databricks.v1+cell": {
     "cellMetadata": {},
     "inputWidgets": {},
     "nuid": "180f7418-5917-4f8a-a2eb-f3b4a084a16d",
     "showTitle": false,
     "title": ""
    }
   },
   "outputs": [],
   "source": [
    "%sh curl -s -X GET -H \"${DBACADEMY_API_TOKEN}\" \"${DBACADEMY_API_URL}/secrets/scopes/list\" | json_pp"
   ]
  },
  {
   "cell_type": "markdown",
   "metadata": {
    "application/vnd.databricks.v1+cell": {
     "cellMetadata": {},
     "inputWidgets": {},
     "nuid": "e16970c5-4711-4e84-8127-cd5c2e0f9fa4",
     "showTitle": false,
     "title": ""
    }
   },
   "source": [
    "### Adding secrets\n",
    "With a scope prepared, let's add two secrets containing the GitHub organization and token. In this case we will take advantage of the fact that we have widgets already populated with these values.\n",
    "\n",
    "If we were using the CLI, the equivalent command for this would be **`databricks secrets put --scope mysecrets_cli --key github_org`**. This would require an interactive shell, as it will open an editor application for you to fill in the value."
   ]
  },
  {
   "cell_type": "code",
   "execution_count": 0,
   "metadata": {
    "application/vnd.databricks.v1+cell": {
     "cellMetadata": {},
     "inputWidgets": {},
     "nuid": "0b2896ee-d8ff-4318-839a-28ec852aba72",
     "showTitle": false,
     "title": ""
    }
   },
   "outputs": [],
   "source": [
    "%sh cat << EOF | curl -s -X POST -H \"${DBACADEMY_API_TOKEN}\" \"${DBACADEMY_API_URL}/secrets/put\" -d @- | json_pp\n",
    "{\n",
    "  \"scope\": \"mysecrets_api\",\n",
    "  \"key\": \"github_org\",\n",
    "  \"string_value\": \"${DBACADEMY_GITHUB_ORG}\"\n",
    "}\n",
    "EOF"
   ]
  },
  {
   "cell_type": "code",
   "execution_count": 0,
   "metadata": {
    "application/vnd.databricks.v1+cell": {
     "cellMetadata": {},
     "inputWidgets": {},
     "nuid": "c0c97400-c7f6-4b55-b812-12762159cec3",
     "showTitle": false,
     "title": ""
    }
   },
   "outputs": [],
   "source": [
    "%sh cat << EOF | curl -s -X POST -H \"${DBACADEMY_API_TOKEN}\" \"${DBACADEMY_API_URL}/secrets/put\" -d @- | json_pp\n",
    "{\n",
    "  \"scope\": \"mysecrets_api\",\n",
    "  \"key\": \"github_token\",\n",
    "  \"string_value\": \"${DBACADEMY_GITHUB_TOKEN}\"\n",
    "}\n",
    "EOF"
   ]
  },
  {
   "cell_type": "markdown",
   "metadata": {
    "application/vnd.databricks.v1+cell": {
     "cellMetadata": {},
     "inputWidgets": {},
     "nuid": "ae20f4de-9afe-4aa7-9e45-8edbcf86617b",
     "showTitle": false,
     "title": ""
    }
   },
   "source": [
    "#### Listing secrets\n",
    "Let's validate the secrets creation by invoking the API to list secrets. The equivalent CLI command for this is **`databricks secrets list mysecrets_cli`**."
   ]
  },
  {
   "cell_type": "code",
   "execution_count": 0,
   "metadata": {
    "application/vnd.databricks.v1+cell": {
     "cellMetadata": {},
     "inputWidgets": {},
     "nuid": "816feb2e-a980-4346-8f86-2944d83bb8be",
     "showTitle": false,
     "title": ""
    }
   },
   "outputs": [],
   "source": [
    "%sh curl -s -X GET -H \"${DBACADEMY_API_TOKEN}\" \"${DBACADEMY_API_URL}/secrets/list?scope=mysecrets_api\" | json_pp"
   ]
  },
  {
   "cell_type": "markdown",
   "metadata": {
    "application/vnd.databricks.v1+cell": {
     "cellMetadata": {},
     "inputWidgets": {},
     "nuid": "18d45bc9-2196-4ed8-9eb7-bcd1f6856e37",
     "showTitle": false,
     "title": ""
    }
   },
   "source": [
    "### Using secrets\n",
    "With our sensitive values now stored as secrets, let's update the original application to use these secrets instead. As compared to the parametrization example, the changes are minimal. Here's what needed to happen:\n",
    "* Replace **`dbutils.widgets.get()`** calls with **`dbutils.secrets.get()`**\n",
    "* To those calls, add the scope name as the first parameter\n",
    "* Ensure that the second parameter matches to the *key* value of the secret"
   ]
  },
  {
   "cell_type": "code",
   "execution_count": 0,
   "metadata": {
    "application/vnd.databricks.v1+cell": {
     "cellMetadata": {},
     "inputWidgets": {},
     "nuid": "df295681-3c7d-4b2b-9848-90df8540ceab",
     "showTitle": false,
     "title": ""
    }
   },
   "outputs": [],
   "source": [
    "import requests\n",
    "dbutils.secrets.get\n",
    "# Request a list of repository organizations as per https://docs.github.com/en/rest/repos/repos#list-organization-repositories\n",
    "r = requests.get(f\"https://api.github.com/orgs/{dbutils.secrets.get('mysecrets_api', 'github_org')}/repos\",\n",
    "                 params = { \"per_page\": 100 },\n",
    "                 headers = { \"Authorization\": f\"Bearer {dbutils.secrets.get('mysecrets_api', 'github_token')}\" }\n",
    "                )\n",
    "\n",
    "# Read the JSON output into a DataFrame with select columns. No error checking in this simple example. If the above request failed,\n",
    "# the following statement will fail.\n",
    "df = spark.read.json(sc.parallelize([ r.text ])).select(\"name\",\"git_url\",\"created_at\",\"open_issues_count\",\"visibility\",\"watchers_count\")\n",
    "display(df)"
   ]
  },
  {
   "cell_type": "markdown",
   "metadata": {
    "application/vnd.databricks.v1+cell": {
     "cellMetadata": {},
     "inputWidgets": {},
     "nuid": "b950e1fe-3e17-45ee-8a93-345500cf36b0",
     "showTitle": false,
     "title": ""
    }
   },
   "source": [
    "That seems simple enough, but is it really secure? Let's try to access the contents of one of the secrets directly."
   ]
  },
  {
   "cell_type": "code",
   "execution_count": 0,
   "metadata": {
    "application/vnd.databricks.v1+cell": {
     "cellMetadata": {},
     "inputWidgets": {},
     "nuid": "45f06fec-40d5-4684-bc18-3d4330772c89",
     "showTitle": false,
     "title": ""
    }
   },
   "outputs": [],
   "source": [
    "print(dbutils.secrets.get('mysecrets_api', 'github_token'))"
   ]
  },
  {
   "cell_type": "markdown",
   "metadata": {
    "application/vnd.databricks.v1+cell": {
     "cellMetadata": {},
     "inputWidgets": {},
     "nuid": "80672320-ce25-4dd2-921c-dd52497f28b5",
     "showTitle": false,
     "title": ""
    }
   },
   "source": [
    "We see that the output is redacted, improving security by eliminating the chance of the real secret value accidently being included in cell output."
   ]
  },
  {
   "cell_type": "markdown",
   "metadata": {
    "application/vnd.databricks.v1+cell": {
     "cellMetadata": {},
     "inputWidgets": {},
     "nuid": "8ec238c1-d236-4852-aa3c-1d04a05a47a4",
     "showTitle": false,
     "title": ""
    }
   },
   "source": [
    "### Access control\n",
    "If you followed along with the *Securing the Workspace* lab, we went over how to use access control to secure assets within the workspace. Access control extends to secrets and is managed at the scope level. Like the secrets and scopes themselves, access control lists (ACLs) for secrets must be manipulated using the CLI or API.\n",
    "\n",
    "Let's see that in action now."
   ]
  },
  {
   "cell_type": "markdown",
   "metadata": {
    "application/vnd.databricks.v1+cell": {
     "cellMetadata": {},
     "inputWidgets": {},
     "nuid": "8bc93b9b-407f-4201-a5e7-71d1a6e46ec5",
     "showTitle": false,
     "title": ""
    }
   },
   "source": [
    "### Granting access to secrets\n",
    "\n",
    "Let's grant **`READ`** access to everyone in the workspace (denoted by the special workspace local group named *users*) on the secret scope we created earlier, by invoking the API for creating a new ACL.\n",
    "\n",
    "If we were using the CLI, an equivalent command for this would be **`databricks secrets put-acl --scope mysecrets_cli --principal users --permission READ`**."
   ]
  },
  {
   "cell_type": "code",
   "execution_count": 0,
   "metadata": {
    "application/vnd.databricks.v1+cell": {
     "cellMetadata": {},
     "inputWidgets": {},
     "nuid": "5fb08a3f-e041-4454-b380-9113ccad9f1f",
     "showTitle": false,
     "title": ""
    }
   },
   "outputs": [],
   "source": [
    "%sh cat << EOF | curl -s -X POST -H \"${DBACADEMY_API_TOKEN}\" \"${DBACADEMY_API_URL}/secrets/acls/put\" -d @- | json_pp\n",
    "{\n",
    "  \"scope\": \"mysecrets_api\",\n",
    "  \"principal\": \"users\",\n",
    "  \"permission\": \"READ\"\n",
    "}\n",
    "EOF"
   ]
  },
  {
   "cell_type": "markdown",
   "metadata": {
    "application/vnd.databricks.v1+cell": {
     "cellMetadata": {},
     "inputWidgets": {},
     "nuid": "19d1a642-d47f-44b9-9ea2-e906ca1996df",
     "showTitle": false,
     "title": ""
    }
   },
   "source": [
    "#### Listing grants\n",
    "Let's validate the ACL creation by invoking the API to list secret ACLs. The equivalent CLI command for this is **`databricks secrets list-acls mysecrets_cli`**."
   ]
  },
  {
   "cell_type": "code",
   "execution_count": 0,
   "metadata": {
    "application/vnd.databricks.v1+cell": {
     "cellMetadata": {},
     "inputWidgets": {},
     "nuid": "1e0c936f-768b-4708-a17d-f0ad90a7803f",
     "showTitle": false,
     "title": ""
    }
   },
   "outputs": [],
   "source": [
    "%sh curl -s -X GET -H \"${DBACADEMY_API_TOKEN}\" \"${DBACADEMY_API_URL}/secrets/acls/list?scope=mysecrets_api\" | json_pp"
   ]
  },
  {
   "cell_type": "markdown",
   "metadata": {
    "application/vnd.databricks.v1+cell": {
     "cellMetadata": {},
     "inputWidgets": {},
     "nuid": "b88784de-c9a7-466e-a7e6-0de1607bdb9f",
     "showTitle": false,
     "title": ""
    }
   },
   "source": [
    "Here we see the **`READ`** grant we just issued, as well as the default grant allowing the creator to **`MANAGE`** the scope."
   ]
  },
  {
   "cell_type": "markdown",
   "metadata": {
    "application/vnd.databricks.v1+cell": {
     "cellMetadata": {},
     "inputWidgets": {},
     "nuid": "41650982-13d1-45cc-9a42-8d9b98800f8a",
     "showTitle": false,
     "title": ""
    }
   },
   "source": [
    "###Revoking grants\n",
    "The ability to revoke previously issued grants is important; let's see how to do that now.\n",
    "\n",
    "If we were using the CLI, an equivalent command for this would be **`databricks secrets delete-acl --scope mysecrets_cli --principal users`**."
   ]
  },
  {
   "cell_type": "code",
   "execution_count": 0,
   "metadata": {
    "application/vnd.databricks.v1+cell": {
     "cellMetadata": {},
     "inputWidgets": {},
     "nuid": "61d180ef-900a-47de-aeeb-f56258bd3154",
     "showTitle": false,
     "title": ""
    }
   },
   "outputs": [],
   "source": [
    "%sh cat << EOF | curl -s -X POST -H \"${DBACADEMY_API_TOKEN}\" \"${DBACADEMY_API_URL}/secrets/acls/delete\" -d @- | json_pp\n",
    "{\n",
    "  \"scope\": \"mysecrets_api\",\n",
    "  \"principal\": \"users\"\n",
    "}\n",
    "EOF"
   ]
  },
  {
   "cell_type": "markdown",
   "metadata": {
    "application/vnd.databricks.v1+cell": {
     "cellMetadata": {},
     "inputWidgets": {},
     "nuid": "a5498018-17bb-467f-af20-4fe8a9047a05",
     "showTitle": false,
     "title": ""
    }
   },
   "source": [
    "Let's list the ACLs once again to validate the removal."
   ]
  },
  {
   "cell_type": "code",
   "execution_count": 0,
   "metadata": {
    "application/vnd.databricks.v1+cell": {
     "cellMetadata": {},
     "inputWidgets": {},
     "nuid": "bc335f22-a674-4e54-8705-143310616615",
     "showTitle": false,
     "title": ""
    }
   },
   "outputs": [],
   "source": [
    "%sh curl -s -X GET -H \"${DBACADEMY_API_TOKEN}\" \"${DBACADEMY_API_URL}/secrets/acls/list?scope=mysecrets_api\" | json_pp"
   ]
  },
  {
   "cell_type": "markdown",
   "metadata": {
    "application/vnd.databricks.v1+cell": {
     "cellMetadata": {},
     "inputWidgets": {},
     "nuid": "4348baed-b015-40ef-a324-997d5f26b3d9",
     "showTitle": false,
     "title": ""
    }
   },
   "source": [
    "## Cleanup\n",
    "\n",
    "Run the following cell to delete the scope we created, which will remove the contained secrets and any associated ACLs. If using the CLI, the equivalent command would be **`databricks secrets delete-scope --scope mysecrets_cli`**."
   ]
  },
  {
   "cell_type": "code",
   "execution_count": 0,
   "metadata": {
    "application/vnd.databricks.v1+cell": {
     "cellMetadata": {},
     "inputWidgets": {},
     "nuid": "6a20dfbe-84eb-4fd6-9d68-32880c5c539a",
     "showTitle": false,
     "title": ""
    }
   },
   "outputs": [],
   "source": [
    "%sh cat << EOF | curl -s -X POST -H \"${DBACADEMY_API_TOKEN}\" \"${DBACADEMY_API_URL}/secrets/scopes/delete\" -d @- | json_pp\n",
    "{\n",
    "  \"scope\": \"mysecrets_api\"\n",
    "}\n",
    "EOF"
   ]
  },
  {
   "cell_type": "markdown",
   "metadata": {
    "application/vnd.databricks.v1+cell": {
     "cellMetadata": {},
     "inputWidgets": {},
     "nuid": "71938069-23a3-4242-b11e-27c14e56c954",
     "showTitle": false,
     "title": ""
    }
   },
   "source": [
    "-sandbox\n",
    "&copy; 2022 Databricks, Inc. All rights reserved.<br/>\n",
    "Apache, Apache Spark, Spark and the Spark logo are trademarks of the <a href=\"https://www.apache.org/\">Apache Software Foundation</a>.<br/>\n",
    "<br/>\n",
    "<a href=\"https://databricks.com/privacy-policy\">Privacy Policy</a> | <a href=\"https://databricks.com/terms-of-use\">Terms of Use</a> | <a href=\"https://help.databricks.com/\">Support</a>"
   ]
  }
 ],
 "metadata": {
  "application/vnd.databricks.v1+notebook": {
   "dashboards": [],
   "language": "python",
   "notebookMetadata": {
    "pythonIndentUnit": 2
   },
   "notebookName": "4 Implementing security best practices in your notebooks",
   "notebookOrigID": 3131765080330666,
   "widgets": {}
  }
 },
 "nbformat": 4,
 "nbformat_minor": 0
}
